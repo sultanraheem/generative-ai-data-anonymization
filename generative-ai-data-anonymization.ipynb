{
 "cells": [
  {
   "cell_type": "code",
   "execution_count": 8,
   "id": "0fab0576-f0ee-40ca-a1eb-ee708f3e3a51",
   "metadata": {},
   "outputs": [
    {
     "name": "stdout",
     "output_type": "stream",
     "text": [
      "              Name                     Email  Age  Contact Number\n",
      "0  Brenda Richards    michelle76@example.org   79      9898586166\n",
      "1    Antonio Perez    psingleton@example.net   19      9876282758\n",
      "2     Terry Monroe    edwardross@example.net   30      9782846470\n",
      "3    Heather Floyd    cookbrooke@example.net   65      9739572462\n",
      "4    Allen Shelton  craigcollins@example.net   63      9676063153\n",
      "Index(['Name', 'Email', 'Age', 'Contact Number'], dtype='object')\n"
     ]
    }
   ],
   "source": [
    "import pandas as pd\n",
    "\n",
    "# Checking to see if my Jupyter notebook can read the CSV file\n",
    "df = pd.read_csv(r\"C:\\Users\\higas\\Downloads\\generative-ai-data-anonymization\\synthetic_dataset.csv\")\n",
    "print(df.head())\n",
    "print(df.columns)"
   ]
  },
  {
   "cell_type": "code",
   "execution_count": 9,
   "id": "a86a2c60-fdee-4351-a85d-6d50ff205e12",
   "metadata": {},
   "outputs": [
    {
     "name": "stdout",
     "output_type": "stream",
     "text": [
      "              Name              Email  Age Contact Number\n",
      "0  ##e##a #i##a###  user_1@pseudo.com   79     0650286166\n",
      "1    A##o#io #e#e#  user_2@pseudo.com   19     0861682758\n",
      "2     #e### #o##oe  user_3@pseudo.com   30     3082346470\n",
      "3    #ea##e# ##o##  user_4@pseudo.com   65     8574272462\n",
      "4    A##e# ##e##o#  user_5@pseudo.com   63     2795263153\n"
     ]
    }
   ],
   "source": [
    "import pandas as pd\n",
    "import random\n",
    "\n",
    "# Load the CSV\n",
    "df = pd.read_csv(r\"C:\\Users\\higas\\Downloads\\generative-ai-data-anonymization\\synthetic_dataset.csv\")\n",
    "\n",
    "# 1. Redact Name (keep vowels only, replace others with #)\n",
    "def redact_name(name):\n",
    "    vowels = \"aeiouAEIOU\"\n",
    "    return \"\".join([ch if ch in vowels or not ch.isalpha() else \"#\" for ch in name])\n",
    "\n",
    "df[\"Name\"] = df[\"Name\"].apply(redact_name)\n",
    "\n",
    "# 2. Assign pseudonyms to Email\n",
    "df[\"Email\"] = [f\"user_{i}@pseudo.com\" for i in range(1, len(df) + 1)]\n",
    "\n",
    "# 3. Add random noise to first 5 digits of Contact Number (keep last 5 unchanged)\n",
    "def add_noise(contact):\n",
    "    contact = str(contact)\n",
    "    noisy_first = \"\".join([str(random.randint(0, 9)) for _ in range(5)])\n",
    "    return noisy_first + contact[5:]\n",
    "\n",
    "df[\"Contact Number\"] = df[\"Contact Number\"].apply(add_noise)\n",
    "\n",
    "# Show transformed data\n",
    "print(df.head())\n",
    "\n",
    "# Save to new CSV if needed\n",
    "df.to_csv(r\"C:\\Users\\higas\\Downloads\\generative-ai-data-anonymization\\synthetic_dataset_anonymized.csv\", index=False)\n"
   ]
  },
  {
   "cell_type": "code",
   "execution_count": 10,
   "id": "83076149-e41f-4986-b6c2-ccb1f8f27661",
   "metadata": {},
   "outputs": [
    {
     "name": "stdout",
     "output_type": "stream",
     "text": [
      "              Name              Email  Age  Contact Number   Age_Group  \\\n",
      "0  ##e##a #i##a###  user_1@pseudo.com   79       650286166  Suppressed   \n",
      "1    A##o#io #e#e#  user_2@pseudo.com   19       861682758  Suppressed   \n",
      "2     #e### #o##oe  user_3@pseudo.com   30      3082346470  Suppressed   \n",
      "3    #ea##e# ##o##  user_4@pseudo.com   65      8574272462  Suppressed   \n",
      "4    A##e# ##e##o#  user_5@pseudo.com   63      2795263153  Suppressed   \n",
      "\n",
      "  Contact_Group  \n",
      "0    Suppressed  \n",
      "1    Suppressed  \n",
      "2    Suppressed  \n",
      "3    Suppressed  \n",
      "4    Suppressed  \n"
     ]
    }
   ],
   "source": [
    "import pandas as pd\n",
    "\n",
    "# Load anonymized dataset\n",
    "df = pd.read_csv(r\"C:\\Users\\higas\\Downloads\\generative-ai-data-anonymization\\synthetic_dataset_anonymized.csv\")\n",
    "\n",
    "# Step 1: Generalize Age into bins and convert to string\n",
    "bins = [0, 18, 29, 49, 120]\n",
    "labels = [\"0-18\", \"19-29\", \"30-49\", \"50+\"]\n",
    "df[\"Age_Group\"] = pd.cut(df[\"Age\"], bins=bins, labels=labels).astype(str)\n",
    "\n",
    "# Step 2: Generalize Contact Number (keep only last 3 digits)\n",
    "df[\"Contact_Group\"] = df[\"Contact Number\"].astype(str).str[-3:]\n",
    "\n",
    "# Step 3: Count how many records per quasi-identifier combination\n",
    "qi = [\"Age_Group\", \"Contact_Group\"]\n",
    "group_sizes = df.groupby(qi, observed=False).size().reset_index(name=\"count\")\n",
    "\n",
    "# Step 4: Merge the counts back\n",
    "df = df.merge(group_sizes, on=qi, how=\"left\")\n",
    "\n",
    "# Step 5: Suppress groups with fewer than k records\n",
    "k = 3\n",
    "df.loc[df[\"count\"] < k, [\"Age_Group\", \"Contact_Group\"]] = \"Suppressed\"\n",
    "\n",
    "# Step 6: Drop helper column\n",
    "df = df.drop(columns=\"count\")\n",
    "\n",
    "# Show anonymized dataset\n",
    "print(df.head())\n",
    "\n",
    "# Optional: save to CSV\n",
    "df.to_csv(r\"C:\\Users\\higas\\Downloads\\generative-ai-data-anonymization\\synthetic_dataset_k_anonymized.csv\", index=False)\n"
   ]
  }
 ],
 "metadata": {
  "kernelspec": {
   "display_name": "Python 3 (ipykernel)",
   "language": "python",
   "name": "python3"
  },
  "language_info": {
   "codemirror_mode": {
    "name": "ipython",
    "version": 3
   },
   "file_extension": ".py",
   "mimetype": "text/x-python",
   "name": "python",
   "nbconvert_exporter": "python",
   "pygments_lexer": "ipython3",
   "version": "3.11.7"
  }
 },
 "nbformat": 4,
 "nbformat_minor": 5
}
